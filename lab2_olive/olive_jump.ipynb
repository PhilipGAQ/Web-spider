{
 "cells": [
  {
   "cell_type": "code",
   "execution_count": 15,
   "metadata": {},
   "outputs": [],
   "source": [
    "# Assuming douban2fb.txt is a mapping file with movie ID to entity ID\n",
    "mapping_file = 'douban2fb.txt'\n",
    "\n",
    "# Create a set to store the entity IDs from douban2fb.txt for faster lookup\n",
    "entity_ids_list = []\n",
    "movie_id2fb = {}\n",
    "\n",
    "with open(mapping_file, 'r') as mapping:\n",
    "    for line in mapping:\n",
    "        # Assuming the file format is \"movieID\\tentityID\"\n",
    "        movie_id, entity_id = line.strip().split()\n",
    "        entity_id=\"<http://rdf.freebase.com/ns/\" + entity_id+ \">\"\n",
    "        movie_id2fb[movie_id] = entity_id\n",
    "        entity_ids_list.append(entity_id)"
   ]
  },
  {
   "cell_type": "code",
   "execution_count": 6,
   "metadata": {},
   "outputs": [
    {
     "name": "stderr",
     "output_type": "stream",
     "text": [
      "Processing lines: 395577070line [1:18:48, 83656.79line/s]\n"
     ]
    }
   ],
   "source": [
    "import gzip\n",
    "from tqdm import tqdm\n",
    "first_jump_entities = []#允许重复，方便后面统计与计算\n",
    "str_flag=\"<http://rdf.freebase.com/ns/\"\n",
    "str_fault=\"<http://rdf.freebase.com/ns/people.person.date_of_birth>\"\n",
    "with gzip.open('freebase_douban.gz', 'rb') as f, gzip.open('output_first_entity.gz', 'wt') as output1, gzip.open('output_first_3.gz', 'wt') as output2:\n",
    "    for line in tqdm(f, desc=\"Processing lines\", unit=\"line\"):\n",
    "        triplet = line.strip().decode().split('\\t')[:3]\n",
    "        if triplet[2] in entity_ids_list and str_flag in triplet[0] and str_fault not in triplet[1]:\n",
    "            first_jump_entities.append(triplet[0])\n",
    "            output2.write(triplet[0]+\" \"+triplet[1]+\" \"+triplet[2]+\"\\n\")\n",
    "        elif triplet[0] in entity_ids_list and str_flag in triplet[2] and str_fault not in triplet[1]:\n",
    "            first_jump_entities.append(triplet[2])\n",
    "            output2.write(triplet[0]+\" \"+triplet[1]+\" \"+triplet[2]+\"\\n\")\n",
    "    for i in first_jump_entities:\n",
    "        output1.write(i+\"\\n\")\n"
   ]
  },
  {
   "cell_type": "code",
   "execution_count": 2,
   "metadata": {},
   "outputs": [
    {
     "name": "stderr",
     "output_type": "stream",
     "text": [
      "Processing lines: 0line [00:00, ?line/s]"
     ]
    },
    {
     "name": "stderr",
     "output_type": "stream",
     "text": [
      "Processing lines: 240073line [00:00, 949588.73line/s]\n",
      "Processing lines: 240073line [00:00, 463865.86line/s]"
     ]
    },
    {
     "name": "stdout",
     "output_type": "stream",
     "text": [
      "['<http://rdf.freebase.com/ns/m.010ntlwj>', '<http://rdf.freebase.com/ns/film.film_crew_gig.film>', '<http://rdf.freebase.com/ns/m.08s6mr>']\n",
      "<http://rdf.freebase.com/ns/m.010ntlwj>\n"
     ]
    },
    {
     "name": "stderr",
     "output_type": "stream",
     "text": [
      "\n"
     ]
    }
   ],
   "source": [
    "import gzip\n",
    "from tqdm import tqdm\n",
    "first_3 = []#存储第一跳的三元组\n",
    "first_jump = []#存储第一跳的实体\n",
    "#将output_first_entity.gz与output_first_3.gz中的实体和三元组存入字典\n",
    "with gzip.open('output_first_entity.gz', 'rb') as f:\n",
    "    for line in tqdm(f, desc=\"Processing lines\", unit=\"line\"):\n",
    "        entity = line.strip().decode()\n",
    "        first_jump.append(entity)\n",
    "with gzip.open('output_first_3.gz','rb') as f:\n",
    "    for line in tqdm(f,desc=\"Processing lines\",unit=\"line\"):\n",
    "        triplet = line.strip().decode().split(\" \")[:3]\n",
    "        first_3.append(triplet)\n",
    "\n",
    "print(first_3[4])\n",
    "print(first_jump[4])"
   ]
  },
  {
   "cell_type": "code",
   "execution_count": 3,
   "metadata": {},
   "outputs": [
    {
     "name": "stdout",
     "output_type": "stream",
     "text": [
      "<http://rdf.freebase.com/ns/m.010ntlwj>\n"
     ]
    }
   ],
   "source": [
    "print(first_3[4][0])"
   ]
  },
  {
   "cell_type": "code",
   "execution_count": 17,
   "metadata": {},
   "outputs": [],
   "source": [
    "import copy\n",
    "#关系<=50则删除，实体<=20则删除\n",
    "min_relation = 50\n",
    "min_entity = 20\n",
    "\n",
    "#函数，通过关系小于50更新first_3，通过first_3更新first_jump\n",
    "def update_first_3_by_relation (first_3,min_relation,first_jump):\n",
    "    num_relation = {}#存储每个关系的数量\n",
    "    num_of_entity = len(first_3)#实体的数量\n",
    "    for i in range(num_of_entity):\n",
    "        if first_3[i][1] not in num_relation:\n",
    "            num_relation[first_3[i][1]] = 1\n",
    "        else:\n",
    "            num_relation[first_3[i][1]] = num_relation[first_3[i][1]] + 1\n",
    "    id_to_delete = []#存储需要删除的三元组的id\n",
    "    #在first_3中删除关系小于50的三元组,并在first_jump中删除对应的实体\n",
    "    for i in range(num_of_entity):\n",
    "        if num_relation[first_3[i][1]] <= min_relation and first_jump[i] not in entity_ids_list:\n",
    "            id_to_delete.append(i)\n",
    "    for i in range(len(id_to_delete)):\n",
    "        del first_3[id_to_delete[i]-i]\n",
    "        del first_jump[id_to_delete[i]-i]\n",
    "    \n",
    "def update_first_3_by_entity(first_3,min_entity,first_jump):\n",
    "    num_entity = {}#存储每个实体的数量\n",
    "    num_of_entity = len(first_3)#实体的数量,即三元组的数量\n",
    "    for i in range(num_of_entity):\n",
    "        if first_jump[i] not in num_entity:\n",
    "            num_entity[first_jump[i]] = 1\n",
    "        else:\n",
    "            num_entity[first_jump[i]] = num_entity[first_jump[i]] + 1\n",
    "    id_to_delete = []#存储需要删除的三元组的id\n",
    "    #在first_3中删除实体小于20且不在entity_id_list的三元组,并在first_jump中删除对应的实体\n",
    "    for i in range(num_of_entity):\n",
    "        if num_entity[first_jump[i]] <= min_entity and first_jump[i] not in entity_ids_list:\n",
    "            id_to_delete.append(i)\n",
    "    for i in range(len(id_to_delete)):\n",
    "        del first_3[id_to_delete[i]-i]\n",
    "        del first_jump[id_to_delete[i]-i]\n",
    "            \n",
    "#处理第一跳，删除关系小于50的三元组，删除实体小于20的三元组,轮流执行直至first_3和first_jump不再变化\n",
    "def process_first_jump(first_3,first_jump,min_entity,min_realtion):\n",
    "    first_3_old = copy.deepcopy(first_3)\n",
    "    first_jump_old = copy.deepcopy(first_jump)\n",
    "    update_first_3_by_relation(first_3,min_relation,first_jump)\n",
    "    update_first_3_by_entity(first_3,min_entity,first_jump)\n",
    "    while first_3_old != first_3 and first_jump_old != first_jump:\n",
    "        first_3_old = copy.deepcopy(first_3)\n",
    "        first_jump_old = copy.deepcopy(first_jump)\n",
    "        update_first_3_by_relation(first_3,min_relation,first_jump)\n",
    "        update_first_3_by_entity(first_3,min_entity,first_jump)\n",
    "    \n",
    "process_first_jump(first_3,first_jump,min_entity,min_relation)"
   ]
  },
  {
   "cell_type": "code",
   "execution_count": 18,
   "metadata": {},
   "outputs": [
    {
     "name": "stdout",
     "output_type": "stream",
     "text": [
      "40707\n",
      "40707\n"
     ]
    }
   ],
   "source": [
    "#测试代码\n",
    "#检测first_3和first_jump是否一一对应\n",
    "print(len(first_3))\n",
    "print(len(first_jump))\n",
    "for i in range(len(first_3)):\n",
    "    if first_3[i][0] == first_jump[i] and first_3[i][2] in entity_ids_list:\n",
    "        continue\n",
    "    elif first_3[i][2] == first_jump[i] and first_3[i][0] in entity_ids_list:\n",
    "        continue\n",
    "    else:\n",
    "        print(\"error\")\n",
    "        print(i)\n",
    "        print(first_3[i])\n",
    "        print(first_jump[i])\n",
    "        \n",
    "        "
   ]
  },
  {
   "cell_type": "code",
   "execution_count": 19,
   "metadata": {},
   "outputs": [
    {
     "name": "stdout",
     "output_type": "stream",
     "text": [
      "379\n",
      "37\n"
     ]
    }
   ],
   "source": [
    "#测试代码\n",
    "#测试正确性\n",
    "num_entity_first_jump = {}\n",
    "num_relation_first_jump = {}\n",
    "num_of_entity = len(first_jump)\n",
    "for i in range(num_of_entity):\n",
    "    if first_jump[i] not in num_entity_first_jump:\n",
    "        num_entity_first_jump[first_jump[i]] = 1\n",
    "    else:\n",
    "        num_entity_first_jump[first_jump[i]] = num_entity_first_jump[first_jump[i]] + 1\n",
    "    if first_3[i][1] not in num_relation_first_jump:\n",
    "        num_relation_first_jump[first_3[i][1]] = 1\n",
    "    else:\n",
    "        num_relation_first_jump[first_3[i][1]] = num_relation_first_jump[first_3[i][1]] + 1\n",
    "\n",
    "#测试正确性,测试数量是否符合要求\n",
    "min_relation = 50\n",
    "min_entity = 20\n",
    "for i in range(num_of_entity):\n",
    "    if num_entity_first_jump[first_jump[i]] <= min_entity and first_jump[i] not in entity_ids_list:\n",
    "        print(\"error\")\n",
    "        print(i)\n",
    "        print(first_jump[i])\n",
    "    if num_relation_first_jump[first_3[i][1]] <= min_relation and first_jump[i] not in entity_ids_list:\n",
    "        print(\"error\")\n",
    "        print(i)\n",
    "        print(first_3[i][1])\n",
    "\n",
    "print(len(num_entity_first_jump))\n",
    "print(len(num_relation_first_jump))\n"
   ]
  },
  {
   "cell_type": "code",
   "execution_count": 20,
   "metadata": {},
   "outputs": [
    {
     "name": "stdout",
     "output_type": "stream",
     "text": [
      "861\n"
     ]
    }
   ],
   "source": [
    "#将first_jump与entity_id_list合并\n",
    "first_jump_final = first_jump + entity_ids_list\n",
    "#第一跳收尾，将first_jump变成不含重复实体的列表\n",
    "first_jump_final = list(set(first_jump_final))\n",
    "print(len(first_jump_final))\n",
    "#将first_jump写入文件\n",
    "with gzip.open('first_jump.gz','wb') as f:\n",
    "    for i in first_jump_final:\n",
    "        f.write((i+\"\\n\").encode())\n",
    "#将first_3写入文件\n",
    "with gzip.open('first_3.gz','wb') as f:\n",
    "    for i in range(len(first_3)):\n",
    "        f.write((first_3[i][0]+\" \"+first_3[i][1]+\" \"+first_3[i][2]+\"\\n\").encode())"
   ]
  },
  {
   "cell_type": "code",
   "execution_count": 21,
   "metadata": {},
   "outputs": [
    {
     "name": "stderr",
     "output_type": "stream",
     "text": [
      "Processing lines: 317454704line [12:20, 428913.61line/s]"
     ]
    },
    {
     "name": "stdout",
     "output_type": "stream",
     "text": [
      "1544\n"
     ]
    },
    {
     "name": "stderr",
     "output_type": "stream",
     "text": [
      "\n"
     ]
    }
   ],
   "source": [
    "#由于第二跳的三元组数量太多，不能一次性读入内存，因此直接在文件中处理\n",
    "import gzip\n",
    "from tqdm import tqdm\n",
    "\n",
    "min_relation = 50\n",
    "min_entity = 15\n",
    "max_entity = 20000\n",
    "\n",
    "\n",
    "with gzip.open('output_second_3.gz','rb') as second_3:\n",
    "    num_relation = {}\n",
    "    for line in tqdm(second_3, desc=\"Processing lines\", unit=\"line\"):\n",
    "        triplet = line.strip().decode().split(\" \")[:3]\n",
    "        if triplet[1] not in num_relation:\n",
    "            num_relation[triplet[1]] = 1\n",
    "        else:\n",
    "            num_relation[triplet[1]] = num_relation[triplet[1]] + 1\n",
    "    print(len(num_relation))\n",
    "    # line_to_delete = []\n",
    "    # line_number = 0\n",
    "    # for line in tqdm(second_3, desc=\"Processing lines\", unit=\"line\"):\n",
    "    #     triplet = line.strip().decode().split(\" \")[:3]\n",
    "    #     if num_relation[triplet[1]] <= min_relation:\n",
    "    #         line_to_delete.append(line_number)\n",
    "    #     line_number = line_number + 1\n",
    "    # print(len(line_to_delete))\n",
    "    #     #在两个文件中删除line_to_delete中的行\n",
    "        \n",
    "\n",
    "\n"
   ]
  },
  {
   "cell_type": "code",
   "execution_count": 7,
   "metadata": {},
   "outputs": [
    {
     "ename": "NameError",
     "evalue": "name 'num_relation' is not defined",
     "output_type": "error",
     "traceback": [
      "\u001b[1;31m---------------------------------------------------------------------------\u001b[0m",
      "\u001b[1;31mNameError\u001b[0m                                 Traceback (most recent call last)",
      "\u001b[1;32md:\\文档\\GitHub\\Web-spider\\lab2_olive\\olive_jump.ipynb 单元格 9\u001b[0m line \u001b[0;36m1\n\u001b[1;32m----> <a href='vscode-notebook-cell:/d%3A/%E6%96%87%E6%A1%A3/GitHub/Web-spider/lab2_olive/olive_jump.ipynb#X22sZmlsZQ%3D%3D?line=0'>1</a>\u001b[0m \u001b[39mprint\u001b[39m(num_relation)\n",
      "\u001b[1;31mNameError\u001b[0m: name 'num_relation' is not defined"
     ]
    }
   ],
   "source": []
  }
 ],
 "metadata": {
  "kernelspec": {
   "display_name": "base",
   "language": "python",
   "name": "python3"
  },
  "language_info": {
   "codemirror_mode": {
    "name": "ipython",
    "version": 3
   },
   "file_extension": ".py",
   "mimetype": "text/x-python",
   "name": "python",
   "nbconvert_exporter": "python",
   "pygments_lexer": "ipython3",
   "version": "3.8.18"
  }
 },
 "nbformat": 4,
 "nbformat_minor": 2
}
