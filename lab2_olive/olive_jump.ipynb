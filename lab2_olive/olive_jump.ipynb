{
 "cells": [
  {
   "cell_type": "code",
   "execution_count": 1,
   "metadata": {},
   "outputs": [],
   "source": [
    "# Assuming douban2fb.txt is a mapping file with movie ID to entity ID\n",
    "mapping_file = 'douban2fb.txt'\n",
    "\n",
    "# Create a set to store the entity IDs from douban2fb.txt for faster lookup\n",
    "entity_ids_list = []\n",
    "movie_id2fb = {}\n",
    "\n",
    "with open(mapping_file, 'r') as mapping:\n",
    "    for line in mapping:\n",
    "        # Assuming the file format is \"movieID\\tentityID\"\n",
    "        movie_id, entity_id = line.strip().split()\n",
    "        entity_id=\"<http://rdf.freebase.com/ns/\" + entity_id+ \">\"\n",
    "        movie_id2fb[movie_id] = entity_id\n",
    "        entity_ids_list.append(entity_id)"
   ]
  },
  {
   "cell_type": "code",
   "execution_count": 6,
   "metadata": {},
   "outputs": [
    {
     "name": "stderr",
     "output_type": "stream",
     "text": [
      "Processing lines: 395577070line [1:18:48, 83656.79line/s]\n"
     ]
    }
   ],
   "source": [
    "import gzip\n",
    "from tqdm import tqdm\n",
    "first_jump_entities = []#允许重复，方便后面统计与计算\n",
    "str_flag=\"<http://rdf.freebase.com/ns/\"\n",
    "str_fault=\"<http://rdf.freebase.com/ns/people.person.date_of_birth>\"\n",
    "with gzip.open('freebase_douban.gz', 'rb') as f, gzip.open('output_first_entity.gz', 'wt') as output1, gzip.open('output_first_3.gz', 'wt') as output2:\n",
    "    for line in tqdm(f, desc=\"Processing lines\", unit=\"line\"):\n",
    "        triplet = line.strip().decode().split('\\t')[:3]\n",
    "        if triplet[2] in entity_ids_list and str_flag in triplet[0] and str_fault not in triplet[1]:\n",
    "            first_jump_entities.append(triplet[0])\n",
    "            output2.write(triplet[0]+\" \"+triplet[1]+\" \"+triplet[2]+\"\\n\")\n",
    "        elif triplet[0] in entity_ids_list and str_flag in triplet[2] and str_fault not in triplet[1]:\n",
    "            first_jump_entities.append(triplet[2])\n",
    "            output2.write(triplet[0]+\" \"+triplet[1]+\" \"+triplet[2]+\"\\n\")\n",
    "    for i in first_jump_entities:\n",
    "        output1.write(i+\"\\n\")\n"
   ]
  },
  {
   "cell_type": "code",
   "execution_count": 11,
   "metadata": {},
   "outputs": [
    {
     "name": "stderr",
     "output_type": "stream",
     "text": [
      "Processing lines: 240073line [00:00, 809323.41line/s]\n",
      "Processing lines: 240073line [00:00, 435790.07line/s]"
     ]
    },
    {
     "name": "stdout",
     "output_type": "stream",
     "text": [
      "['<http://rdf.freebase.com/ns/m.010ntlwj>', '<http://rdf.freebase.com/ns/film.film_crew_gig.film>', '<http://rdf.freebase.com/ns/m.08s6mr>']\n",
      "<http://rdf.freebase.com/ns/m.010ntlwj>\n"
     ]
    },
    {
     "name": "stderr",
     "output_type": "stream",
     "text": [
      "\n"
     ]
    }
   ],
   "source": [
    "import gzip\n",
    "from tqdm import tqdm\n",
    "first_3 = []#存储第一跳的三元组\n",
    "first_jump = []#存储第一跳的实体\n",
    "#将output_first_entity.gz与output_first_3.gz中的实体和三元组存入字典\n",
    "with gzip.open('output_first_entity.gz', 'rb') as f:\n",
    "    for line in tqdm(f, desc=\"Processing lines\", unit=\"line\"):\n",
    "        entity = line.strip().decode()\n",
    "        first_jump.append(entity)\n",
    "with gzip.open('output_first_3.gz','rb') as f:\n",
    "    for line in tqdm(f,desc=\"Processing lines\",unit=\"line\"):\n",
    "        triplet = line.strip().decode().split(\" \")[:3]\n",
    "        first_3.append(triplet)\n",
    "\n",
    "print(first_3[4])\n",
    "print(first_jump[4])"
   ]
  },
  {
   "cell_type": "code",
   "execution_count": 35,
   "metadata": {},
   "outputs": [],
   "source": [
    "import copy\n",
    "#关系<=50则删除，实体<=20则删除\n",
    "min_relation = 50\n",
    "min_entity = 30\n",
    "\n",
    "#函数，通过关系小于50更新first_3，通过first_3更新first_jump\n",
    "def update_first_3_by_relation (first_3,min_relation,first_jump):\n",
    "    num_relation = {}#存储每个关系的数量\n",
    "    num_of_entity = len(first_3)#实体的数量\n",
    "    for i in range(num_of_entity):\n",
    "        if first_3[i][1] not in num_relation:\n",
    "            num_relation[first_3[i][1]] = 1\n",
    "        else:\n",
    "            num_relation[first_3[i][1]] = num_relation[first_3[i][1]] + 1\n",
    "    id_to_delete = []#存储需要删除的三元组的id\n",
    "    #在first_3中删除关系小于50的三元组,并在first_jump中删除对应的实体\n",
    "    for i in range(num_of_entity):\n",
    "        if num_relation[first_3[i][1]] <= min_relation:\n",
    "            id_to_delete.append(i)\n",
    "    for i in range(len(id_to_delete)):\n",
    "        del first_3[id_to_delete[i]-i]\n",
    "        del first_jump[id_to_delete[i]-i]\n",
    "    \n",
    "def update_first_3_by_entity(first_3,min_entity,first_jump):\n",
    "    num_entity = {}#存储每个实体的数量\n",
    "    num_of_entity = len(first_3)#实体的数量,即三元组的数量\n",
    "    for i in range(num_of_entity):\n",
    "        if first_jump[i] not in num_entity:\n",
    "            num_entity[first_jump[i]] = 1\n",
    "        else:\n",
    "            num_entity[first_jump[i]] = num_entity[first_jump[i]] + 1\n",
    "    id_to_delete = []#存储需要删除的三元组的id\n",
    "    #在first_3中删除实体小于20且不在entity_id_list的三元组,并在first_jump中删除对应的实体\n",
    "    for i in range(num_of_entity):\n",
    "        if num_entity[first_jump[i]] <= min_entity:\n",
    "            id_to_delete.append(i)\n",
    "    for i in range(len(id_to_delete)):\n",
    "        del first_3[id_to_delete[i]-i]\n",
    "        del first_jump[id_to_delete[i]-i]\n",
    "            \n",
    "#处理第一跳，删除关系小于50的三元组，删除实体小于20的三元组,轮流执行直至first_3和first_jump不再变化\n",
    "def process_first_jump(first_3,first_jump,min_entity,min_realtion):\n",
    "    first_3_old = copy.deepcopy(first_3)\n",
    "    first_jump_old = copy.deepcopy(first_jump)\n",
    "    update_first_3_by_relation(first_3,min_relation,first_jump)\n",
    "    update_first_3_by_entity(first_3,min_entity,first_jump)\n",
    "    while first_3_old != first_3 and first_jump_old != first_jump:\n",
    "        first_3_old = copy.deepcopy(first_3)\n",
    "        first_jump_old = copy.deepcopy(first_jump)\n",
    "        update_first_3_by_relation(first_3,min_relation,first_jump)\n",
    "        update_first_3_by_entity(first_3,min_entity,first_jump)\n",
    "    \n",
    "process_first_jump(first_3,first_jump,min_entity,min_relation)"
   ]
  },
  {
   "cell_type": "code",
   "execution_count": 36,
   "metadata": {},
   "outputs": [
    {
     "name": "stdout",
     "output_type": "stream",
     "text": [
      "38414\n",
      "38414\n"
     ]
    }
   ],
   "source": [
    "#检测first_3和first_jump是否一一对应\n",
    "print(len(first_3))\n",
    "print(len(first_jump))\n",
    "for i in range(len(first_3)):\n",
    "    if first_3[i][0] != first_jump[i] and first_3[i][2] != first_jump[i]:\n",
    "        print(i)\n",
    "        print(first_3[i][0])\n",
    "        print(first_jump[i])\n",
    "        print(\"error\")"
   ]
  },
  {
   "cell_type": "code",
   "execution_count": 40,
   "metadata": {},
   "outputs": [
    {
     "name": "stdout",
     "output_type": "stream",
     "text": [
      "22\n",
      "200\n"
     ]
    }
   ],
   "source": [
    "#测试正确性\n",
    "num_entity_first_jump = {}\n",
    "num_relation_first_jump = {}\n",
    "num_of_entity = len(first_jump)\n",
    "for i in range(num_of_entity):\n",
    "    if first_jump[i] not in num_entity_first_jump:\n",
    "        num_entity_first_jump[first_jump[i]] = 1\n",
    "    else:\n",
    "        num_entity_first_jump[first_jump[i]] = num_entity_first_jump[first_jump[i]] + 1\n",
    "    if first_3[i][1] not in num_relation_first_jump:\n",
    "        num_relation_first_jump[first_3[i][1]] = 1\n",
    "    else:\n",
    "        num_relation_first_jump[first_3[i][1]] = num_relation_first_jump[first_3[i][1]] + 1\n",
    "print(len(num_relation_first_jump))\n",
    "# print(len(num_relation_first_jump))\n",
    "print(len(num_entity_first_jump))\n"
   ]
  },
  {
   "cell_type": "code",
   "execution_count": 38,
   "metadata": {},
   "outputs": [
    {
     "name": "stdout",
     "output_type": "stream",
     "text": [
      "778\n"
     ]
    }
   ],
   "source": [
    "#将first_jump与entity_id_list合并\n",
    "first_jump_final = first_jump + entity_ids_list\n",
    "#第一跳收尾，将first_jump变成不含重复实体的列表\n",
    "first_jump_final = list(set(first_jump_final))\n",
    "print(len(first_jump_final))\n",
    "#将first_jump写入文件\n",
    "with gzip.open('first_jump.gz','wb') as f:\n",
    "    for i in first_jump_final:\n",
    "        f.write((i+\"\\n\").encode())\n",
    "#将first_3写入文件\n",
    "with gzip.open('first_3.gz','wb') as f:\n",
    "    for i in range(len(first_3)):\n",
    "        f.write((first_3[i][0]+\" \"+first_3[i][1]+\" \"+first_3[i][2]+\"\\n\").encode())"
   ]
  },
  {
   "cell_type": "code",
   "execution_count": null,
   "metadata": {},
   "outputs": [],
   "source": [
    "import gzip\n",
    "from tqdm import tqdm\n",
    "#将first_jump作为第二跳的起点，保存在second_initial中\n",
    "with gzip.open('first_jump.gz','rb') as f:\n",
    "    second_initial = []\n",
    "    for line in tqdm(f, desc=\"Processing lines\", unit=\"line\"):\n",
    "        second_initial.append(line.strip().decode())\n",
    "\n",
    "#开始第二跳\n",
    "second_jump_entities = []\n",
    "str_flag=\"<http://rdf.freebase.com/ns/\"\n",
    "str_fault=\"<http://rdf.freebase.com/ns/people.person.date_of_birth>\"\n",
    "with gzip.open('freebase_douban.gz','rb') as f, gzip.open('output_second_entity.gz','wt') as output1, gzip.open('output_second_3.gz','wt') as output2:\n",
    "    for line in tqdm(f, desc=\"Processing lines\", unit=\"line\"):\n",
    "        triplet = line.strip().decode().split('\\t')[:3]\n",
    "        if triplet[2] in second_initial and str_flag in triplet[0] and str_fault not in triplet[1]:\n",
    "            second_jump_entities.append(triplet[0])\n",
    "            output2.write(triplet[0]+\" \"+triplet[1]+\" \"+triplet[2]+\"\\n\")\n",
    "        elif triplet[0] in second_initial and str_flag in triplet[2] and str_fault not in triplet[1]:\n",
    "            second_jump_entities.append(triplet[2])\n",
    "            output2.write(triplet[0]+\" \"+triplet[1]+\" \"+triplet[2]+\"\\n\")\n",
    "    for i in second_jump_entities:\n",
    "        output1.write(i+\"\\n\")\n"
   ]
  },
  {
   "cell_type": "code",
   "execution_count": null,
   "metadata": {},
   "outputs": [],
   "source": [
    "import gzip\n",
    "from tqdm import tqdm\n",
    "second_3 = {}\n",
    "second_jump = []\n",
    "second_3_flag = 0\n",
    "with gzip.open('output_second_entity.gz','rb') as f:\n",
    "    for line in tqdm(f, desc=\"Processing lines\", unit=\"line\"):\n",
    "        entity = line.strip().decode()\n",
    "        second_jump.append(entity)\n",
    "with gzip.open('output_second_3.gz','rb') as f:\n",
    "    for line in tqdm(f, desc=\"Processing lines\", unit=\"line\"):\n",
    "        triplet = line.strip().decode().split(\" \")[:3]\n",
    "        second_3[second_3_flag] = []\n",
    "        second_3[second_3_flag].append(triplet[0])\n",
    "        second_3[second_3_flag].append(triplet[1])\n",
    "        second_3[second_3_flag].append(triplet[2])\n",
    "        second_3_flag = second_3_flag + 1"
   ]
  },
  {
   "cell_type": "code",
   "execution_count": null,
   "metadata": {},
   "outputs": [],
   "source": [
    "import copy\n",
    "#先过滤掉出现超过 2w 次的实体和出现少于 50 次的关系\n",
    "min_relation = 50\n",
    "max_entity = 20000\n",
    "num_relation = {}#存储每个关系的数量\n",
    "num_entity = {}#存储每个实体的数量\n",
    "for i in second_3:\n",
    "    if second_3[i][1] not in num_relation:\n",
    "        num_relation[second_3[i][1]] = 1\n",
    "    else:\n",
    "        num_relation[second_3[i][1]] = num_relation[second_3[i][1]] + 1\n",
    "for i in second_jump:\n",
    "    if i not in num_entity:\n",
    "        num_entity[i] = 1\n",
    "    else:\n",
    "        num_entity[i] = num_entity[i] + 1\n",
    "\n",
    "for i in second_3:\n",
    "    if num_relation[second_3[i][1]] < min_relation:\n",
    "        del second_3[i]\n",
    "        del second_jump[i]\n",
    "    if num_entity[second_3[i][0]] > max_entity:\n",
    "        del second_3[i]\n",
    "        del second_jump[i]\n",
    "    elif num_entity[second_3[i][2]] > max_entity:\n",
    "        del second_3[i]\n",
    "        del second_jump[i]"
   ]
  },
  {
   "cell_type": "code",
   "execution_count": null,
   "metadata": {},
   "outputs": [],
   "source": [
    "min_entity = 15\n",
    "min_relation = 50\n",
    "#函数，通过关系小于50更新second_3，通过second_3更新second_jump\n",
    "def update_second_3_by_relation (second_3,min_relation,second_jump):\n",
    "    num_relation = {}#存储每个关系的数量\n",
    "    for i in second_3:\n",
    "        if second_3[i][1] not in num_relation:\n",
    "            num_relation[second_3[i][1]] = 1\n",
    "        else:\n",
    "            num_relation[second_3[i][1]] = num_relation[second_3[i][1]] + 1\n",
    "    #在second_3中删除关系小于50的三元组,并在second_jump中删除对应的实体\n",
    "    for i in second_3:\n",
    "        if num_relation[second_3[i][1]] < min_relation:\n",
    "            del second_3[i]\n",
    "            del second_jump[i]\n",
    "\n",
    "def update_second_3_by_entity(second_3,min_entity,second_jump):\n",
    "    num_entity = {}#存储每个实体的数量\n",
    "    for i in second_jump:\n",
    "        if i not in num_entity:\n",
    "            num_entity[i] = 1\n",
    "        else:\n",
    "            num_entity[i] = num_entity[i] + 1\n",
    "    #在second_3中删除实体小于15且不在second_initial的三元组,并在second_jump中删除对应的实体\n",
    "    for i in second_3:\n",
    "        if num_entity[second_3[i][0]] < min_entity and second_3[i][0] not in second_initial:\n",
    "            del second_3[i]\n",
    "            del second_jump[i]\n",
    "        elif num_entity[second_3[i][2]] < min_entity and second_3[i][2] not in second_initial:\n",
    "            del second_3[i]\n",
    "            del second_jump[i]\n",
    "\n",
    "def process_second_jump(second_3,second_jump,min_entity,min_relation):\n",
    "    second_3_old = copy.deepcopy(second_3)\n",
    "    second_jump_old = copy.deepcopy(second_jump)\n",
    "    update_second_3_by_relation(second_3,min_relation,second_jump)\n",
    "    update_second_3_by_entity(second_3,min_entity,second_jump)\n",
    "    while second_3_old != second_3 and second_jump_old != second_jump:\n",
    "        second_3_old = copy.deepcopy(second_3)\n",
    "        second_jump_old = copy.deepcopy(second_jump)\n",
    "        update_second_3_by_relation(second_3,min_relation,second_jump)\n",
    "        update_second_3_by_entity(second_3,min_entity,second_jump)\n",
    "    return second_3,second_jump\n",
    "\n",
    "second_3,second_jump = process_second_jump(second_3,second_jump,min_entity,min_relation)\n"
   ]
  },
  {
   "cell_type": "code",
   "execution_count": null,
   "metadata": {},
   "outputs": [],
   "source": [
    "#处理第二跳的收尾，将second_jump变成不含重复实体的列表\n",
    "second_jump = list(set(second_jump))\n",
    "#将second_jump与second_initial合并\n",
    "second_jump = second_jump + second_initial\n",
    "print(len(second_jump))\n",
    "#将second_3写入文件graph_2step.gz \n",
    "with gzip.open('graph_2step.gz','wb') as f:\n",
    "    for i in second_3:\n",
    "        f.write((second_3[i][0]+\" \"+second_3[i][1]+\" \"+second_3[i][2]+\"\\n\").encode())\n",
    "\n"
   ]
  }
 ],
 "metadata": {
  "kernelspec": {
   "display_name": "base",
   "language": "python",
   "name": "python3"
  },
  "language_info": {
   "codemirror_mode": {
    "name": "ipython",
    "version": 3
   },
   "file_extension": ".py",
   "mimetype": "text/x-python",
   "name": "python",
   "nbconvert_exporter": "python",
   "pygments_lexer": "ipython3",
   "version": "3.8.18"
  }
 },
 "nbformat": 4,
 "nbformat_minor": 2
}
