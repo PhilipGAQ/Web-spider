{
 "cells": [
  {
   "cell_type": "code",
   "execution_count": null,
   "metadata": {},
   "outputs": [],
   "source": [
    "import gzip\n",
    "from tqdm import tqdm\n",
    "#将first_jump作为第二跳的起点，保存在second_initial中\n",
    "second_initial = []\n",
    "with gzip.open('first_jump.gz','rb') as f:\n",
    "    for line in tqdm(f, desc=\"Processing lines\", unit=\"line\"):\n",
    "        second_initial.append(line.strip().decode())\n",
    "\n",
    "#开始第二跳\n",
    "str_flag=\"<http://rdf.freebase.com/ns/\"\n",
    "str_fault=\"<http://rdf.freebase.com/ns/people.person.date_of_birth>\"\n",
    "with gzip.open('freebase_douban.gz','rb') as f, gzip.open('output_second_entity.gz','wt') as output1, gzip.open('output_second_3.gz','wt') as output2:\n",
    "    for line in tqdm(f, desc=\"Processing lines\", unit=\"line\"):\n",
    "        triplet = line.strip().decode().split('\\t')[:3]\n",
    "        if triplet[2] in second_initial and str_flag in triplet[0] and str_fault not in triplet[1]:\n",
    "            output1.write(triplet[0]+\"\\n\")\n",
    "            output2.write(triplet[0]+\" \"+triplet[1]+\" \"+triplet[2]+\"\\n\")\n",
    "        elif triplet[0] in second_initial and str_flag in triplet[2] and str_fault not in triplet[1]:\n",
    "            output1.write(triplet[2]+\"\\n\")\n",
    "            output2.write(triplet[0]+\" \"+triplet[1]+\" \"+triplet[2]+\"\\n\")"
   ]
  },
  {
   "cell_type": "code",
   "execution_count": 1,
   "metadata": {},
   "outputs": [],
   "source": [
    "import gzip\n",
    "from tqdm import tqdm\n",
    "min_relation = 50\n",
    "min_entity = 15\n",
    "max_entity = 20000"
   ]
  },
  {
   "cell_type": "code",
   "execution_count": 2,
   "metadata": {},
   "outputs": [
    {
     "name": "stderr",
     "output_type": "stream",
     "text": [
      "Processing lines: 317454704line [20:07, 262992.76line/s]\n",
      "Processing lines: 317454704line [16:13, 326197.61line/s]\n"
     ]
    }
   ],
   "source": [
    "#将output_second_3中的内容复制到second_3.gz\n",
    "with gzip.open('output_second_3.gz','rb') as f, gzip.open('second_3.gz','wt') as output:\n",
    "    for line in tqdm(f, desc=\"Processing lines\", unit=\"line\"):\n",
    "        output.write(line.strip().decode()+\"\\n\")\n",
    "#将output_second_entity中的内容复制到second_entity.gz\n",
    "with gzip.open('output_second_entity.gz','rb') as f, gzip.open('second_entity.gz','wt') as output:\n",
    "    for line in tqdm(f, desc=\"Processing lines\", unit=\"line\"):\n",
    "        output.write(line.strip().decode()+\"\\n\")"
   ]
  },
  {
   "cell_type": "code",
   "execution_count": 59,
   "metadata": {},
   "outputs": [],
   "source": [
    "def delete_line(line_to_delete):#line_to_delete是一个list,存储了需要删除的行的行号\n",
    "    with gzip.open('second_3.gz','rb') as second_3:\n",
    "    #删除line_to_deiete中的对应行，保存在temp_3中\n",
    "        with gzip.open('temp_3.gz','wt') as output_temp_3:\n",
    "            line_num = 0\n",
    "            i = 0\n",
    "            for line in tqdm(second_3, desc=\"Processing lines\", unit=\"line\"):\n",
    "                if(line_num != line_to_delete[i]):\n",
    "                    output_temp_3.write(line.decode())\n",
    "                else:\n",
    "                    i = i + 1\n",
    "                line_num = line_num + 1\n",
    "    print(\"task1 successfully!\")\n",
    "    #将temp_3中的内容复制到second_3中\n",
    "    with gzip.open('temp_3.gz','rb') as output_temp_3:\n",
    "        with gzip.open('second_3.gz','wt') as output_second_3:\n",
    "            for line in tqdm(output_temp_3, desc=\"Processing lines\", unit=\"line\"):\n",
    "                output_second_3.write(line.decode())\n",
    "    print(\"task2 successfully!\")\n",
    "    with gzip.open('second_entity.gz','rb') as second_entity:\n",
    "    #删除line_to_deiete中的对应行，保存在output_second_entity中\n",
    "        with gzip.open('temp_entity.gz','wt') as output_temp_entity:\n",
    "            line_num = 0\n",
    "            i = 0\n",
    "            for line in tqdm(second_entity, desc=\"Processing lines\", unit=\"line\"):\n",
    "                if(line_num != line_to_delete[i]):\n",
    "                    output_temp_entity.write(line.decode())\n",
    "                else:\n",
    "                    i = i + 1\n",
    "                line_num = line_num + 1\n",
    "    print(\"task3 successfully!\")\n",
    "    #将output_temp_entity中的内容复制到output_second_entity中\n",
    "    with gzip.open('temp_entity.gz','rb') as output_temp_entity:\n",
    "        with gzip.open('second_entity.gz','wt') as output_second_entity:\n",
    "            for line in tqdm(output_temp_entity, desc=\"Processing lines\", unit=\"line\"):\n",
    "                output_second_entity.write(line.decode())\n",
    "    print(\"delete line successfully!\")\n",
    "    "
   ]
  },
  {
   "cell_type": "code",
   "execution_count": 10,
   "metadata": {},
   "outputs": [],
   "source": [
    "def update_second_3_by_relation():\n",
    "    with gzip.open('second_3.gz','rb') as second_3:\n",
    "        num_relation = {}\n",
    "        for line in tqdm(second_3, desc=\"Processing lines\", unit=\"line\"):\n",
    "            triplet = line.strip().decode().split(' ')\n",
    "            if triplet[1] not in num_relation:\n",
    "                num_relation[triplet[1]] = 1\n",
    "            else:\n",
    "                num_relation[triplet[1]] += 1\n",
    "        print(\"num_relation\",len(num_relation))\n",
    "        line_to_delete = []\n",
    "        line_number = 0\n",
    "        second_3.seek(0)\n",
    "        for line in tqdm(second_3, desc=\"Processing lines\", unit=\"line\"):\n",
    "            triplet = line.strip().decode().split(\" \")[:3]\n",
    "            if num_relation[triplet[1]] <= min_relation:\n",
    "                line_to_delete.append(line_number)\n",
    "            line_number = line_number + 1\n",
    "        print(len(line_to_delete))\n",
    "        #delete_line(line_to_delete)\n",
    "        return line_to_delete\n",
    "#update_second_3_by_relation()"
   ]
  },
  {
   "cell_type": "code",
   "execution_count": 46,
   "metadata": {},
   "outputs": [],
   "source": [
    "def update_second_3_by_entity(line_to_delete):\n",
    "    with gzip.open('second_entity.gz','rb') as second_entity:\n",
    "        num_entity = {}\n",
    "        for line in tqdm(second_entity, desc=\"Processing lines\", unit=\"line\"):\n",
    "            entity = line.strip().decode()\n",
    "            if entity not in num_entity:\n",
    "                num_entity[entity] = 1\n",
    "            else:\n",
    "                num_entity[entity] += 1\n",
    "        print(\"num_entity\",len(num_entity))\n",
    "        line_number = 0\n",
    "        second_entity.seek(0) \n",
    "        for line in tqdm(second_entity, desc=\"Processing lines\", unit=\"line\"):\n",
    "            entity = line.strip().decode()\n",
    "            if num_entity[entity] <= min_entity or num_entity[entity] >= max_entity:\n",
    "                line_to_delete.append(line_number)\n",
    "            line_number = line_number + 1\n",
    "        print(len(line_to_delete))\n",
    "        \n",
    "        #delete_line(line_to_delete)\n",
    "    #return line_to_delete\n",
    "\n",
    "#update_second_3_by_entity()\n",
    "    "
   ]
  },
  {
   "cell_type": "code",
   "execution_count": 47,
   "metadata": {},
   "outputs": [
    {
     "name": "stderr",
     "output_type": "stream",
     "text": [
      "Processing lines: 317454704line [06:50, 774109.47line/s]\n"
     ]
    },
    {
     "name": "stdout",
     "output_type": "stream",
     "text": [
      "num_entity 50686843\n"
     ]
    },
    {
     "name": "stderr",
     "output_type": "stream",
     "text": [
      "Processing lines: 317454704line [07:47, 678478.43line/s]"
     ]
    },
    {
     "name": "stdout",
     "output_type": "stream",
     "text": [
      "308325674\n"
     ]
    },
    {
     "name": "stderr",
     "output_type": "stream",
     "text": [
      "\n"
     ]
    }
   ],
   "source": [
    "#初步筛选后的second_3和second_entity保存在second_3.gz和second_entity.gz中\n",
    "line_to_delete = []\n",
    "update_second_3_by_entity(line_to_delete)"
   ]
  },
  {
   "cell_type": "code",
   "execution_count": 62,
   "metadata": {},
   "outputs": [
    {
     "name": "stdout",
     "output_type": "stream",
     "text": [
      "43\n",
      "308325674\n"
     ]
    }
   ],
   "source": [
    "print(line_to_delete[0])\n",
    "print(len(line_to_delete))"
   ]
  },
  {
   "cell_type": "code",
   "execution_count": 64,
   "metadata": {},
   "outputs": [
    {
     "name": "stderr",
     "output_type": "stream",
     "text": [
      "Processing lines: 317454704line [05:00, 1058007.06line/s]\n",
      "Processing lines: 9129030line [00:30, 300403.39line/s]\n",
      "Processing lines: 317454704line [04:25, 1196939.79line/s]\n",
      "Processing lines: 9129030line [00:20, 439250.09line/s]"
     ]
    },
    {
     "name": "stdout",
     "output_type": "stream",
     "text": [
      "delete line successfully!\n"
     ]
    },
    {
     "name": "stderr",
     "output_type": "stream",
     "text": [
      "\n"
     ]
    }
   ],
   "source": [
    "delete_line(line_to_delete)"
   ]
  },
  {
   "cell_type": "code",
   "execution_count": null,
   "metadata": {},
   "outputs": [],
   "source": []
  },
  {
   "cell_type": "code",
   "execution_count": null,
   "metadata": {},
   "outputs": [],
   "source": []
  },
  {
   "cell_type": "code",
   "execution_count": null,
   "metadata": {},
   "outputs": [],
   "source": []
  }
 ],
 "metadata": {
  "kernelspec": {
   "display_name": "PyTorch",
   "language": "python",
   "name": "python3"
  },
  "language_info": {
   "codemirror_mode": {
    "name": "ipython",
    "version": 3
   },
   "file_extension": ".py",
   "mimetype": "text/x-python",
   "name": "python",
   "nbconvert_exporter": "python",
   "pygments_lexer": "ipython3",
   "version": "3.8.18"
  }
 },
 "nbformat": 4,
 "nbformat_minor": 2
}
