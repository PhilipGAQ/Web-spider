{
 "cells": [
  {
   "cell_type": "code",
   "execution_count": 16,
   "metadata": {},
   "outputs": [
    {
     "name": "stderr",
     "output_type": "stream",
     "text": [
      "Processing lines: 9129030line [00:17, 508571.94line/s]\n",
      "Processing lines: 9129030line [00:08, 1036078.38line/s]"
     ]
    },
    {
     "name": "stdout",
     "output_type": "stream",
     "text": [
      "9129030\n",
      "9129030\n",
      "['<http://rdf.freebase.com/ns/award.award_winner>', '<http://rdf.freebase.com/ns/type.type.instance>', '<http://rdf.freebase.com/ns/m.0534v>']\n",
      "<http://rdf.freebase.com/ns/award.award_winner>\n"
     ]
    },
    {
     "name": "stderr",
     "output_type": "stream",
     "text": [
      "\n"
     ]
    }
   ],
   "source": [
    "import gzip\n",
    "from tqdm import tqdm\n",
    "second_3 = []\n",
    "second_jump = []\n",
    "with gzip.open('second_3.gz','rb') as f:\n",
    "    for line in tqdm(f,desc = \"Processing lines\",unit = \"line\"):\n",
    "        triplet = line.strip().decode().split(\" \")[:3]\n",
    "        second_3.append(triplet)\n",
    "with gzip.open('second_entity.gz','rb') as f:\n",
    "    for line in tqdm(f,desc = \"Processing lines\",unit = \"line\"):\n",
    "        second_jump.append(line.strip().decode())\n",
    "\n",
    "print(len(second_3))\n",
    "print(len(second_jump))\n",
    "print(second_3[4])\n",
    "print(second_jump[4])"
   ]
  },
  {
   "cell_type": "code",
   "execution_count": 24,
   "metadata": {},
   "outputs": [
    {
     "name": "stdout",
     "output_type": "stream",
     "text": [
      "<http://rdf.freebase.com/ns/type.type.instance>\n"
     ]
    }
   ],
   "source": [
    "print(second_3[5][1])"
   ]
  },
  {
   "cell_type": "code",
   "execution_count": 30,
   "metadata": {},
   "outputs": [],
   "source": [
    "import copy\n",
    "min_relation = 50\n",
    "min_entity = 15\n",
    "max_entity = 20000\n",
    "\n",
    "#函数，通过关系小于50更新second_3，通过second_3更新second_jump\n",
    "def update_second_3_by_relation ():\n",
    "    num_relation = {}#存储每个关系的数量\n",
    "    num_of_entity = len(second_3)#实体的数量\n",
    "    for i in range(num_of_entity):\n",
    "        if second_3[i][1] not in num_relation:\n",
    "            num_relation[second_3[i][1]] = 1\n",
    "        else:\n",
    "            num_relation[second_3[i][1]] = num_relation[second_3[i][1]] + 1\n",
    "    id_to_delete = []#存储需要删除的三元组的id\n",
    "    #在second_3中删除关系小于50的三元组,并在second_jump中删除对应的实体\n",
    "    for i in range(num_of_entity):\n",
    "        if num_relation[second_3[i][1]] <= min_relation:\n",
    "            id_to_delete.append(i)\n",
    "    for i in range(len(id_to_delete)):\n",
    "        del second_3[id_to_delete[i]-i]\n",
    "        del second_jump[id_to_delete[i]-i]\n",
    "    \n",
    "def update_second_3_by_entity():\n",
    "    num_entity = {}#存储每个实体的数量\n",
    "    num_of_entity = len(second_3)#实体的数量,即三元组的数量\n",
    "    for i in range(num_of_entity):\n",
    "        if second_jump[i] not in num_entity:\n",
    "            num_entity[second_jump[i]] = 1\n",
    "        else:\n",
    "            num_entity[second_jump[i]] = num_entity[second_jump[i]] + 1\n",
    "    id_to_delete = []#存储需要删除的三元组的id\n",
    "    #在second_3中删除实体小于20且不在entity_id_list的三元组,并在second_jump中删除对应的实体\n",
    "    for i in range(num_of_entity):\n",
    "        if num_entity[second_jump[i]] <= min_entity or num_entity[second_jump[i]] >= max_entity:\n",
    "            id_to_delete.append(i)\n",
    "    for i in range(len(id_to_delete)):\n",
    "        del second_3[id_to_delete[i]-i]\n",
    "        del second_jump[id_to_delete[i]-i]\n",
    "            \n",
    "#处理第二跳，删除关系小于50的三元组，删除实体小于20的三元组,轮流执行直至second_3和second_jump不再变化\n",
    "def process_second_jump():\n",
    "    second_3_old = copy.deepcopy(second_3)\n",
    "    second_jump_old = copy.deepcopy(second_jump)\n",
    "    update_second_3_by_entity()\n",
    "    update_second_3_by_relation()\n",
    "    while second_3_old != second_3 and second_jump_old != second_jump:\n",
    "        second_3_old = copy.deepcopy(second_3)\n",
    "        second_jump_old = copy.deepcopy(second_jump)\n",
    "        update_second_3_by_entity()\n",
    "        update_second_3_by_relation()\n",
    "    \n",
    "process_second_jump()\n",
    "    "
   ]
  },
  {
   "cell_type": "code",
   "execution_count": 27,
   "metadata": {},
   "outputs": [
    {
     "name": "stdout",
     "output_type": "stream",
     "text": [
      "9120623\n",
      "9120623\n"
     ]
    }
   ],
   "source": [
    "print(len(second_3))\n",
    "print(len(second_jump))\n",
    "\n"
   ]
  },
  {
   "cell_type": "code",
   "execution_count": 28,
   "metadata": {},
   "outputs": [
    {
     "name": "stdout",
     "output_type": "stream",
     "text": [
      "389668\n",
      "133\n"
     ]
    }
   ],
   "source": [
    "#测试代码\n",
    "#测试正确性\n",
    "num_entity_second_jump = {}\n",
    "num_relation_second_jump = {}\n",
    "num_of_entity = len(second_jump)\n",
    "for i in range(num_of_entity):\n",
    "    if second_jump[i] not in num_entity_second_jump:\n",
    "        num_entity_second_jump[second_jump[i]] = 1\n",
    "    else:\n",
    "        num_entity_second_jump[second_jump[i]] = num_entity_second_jump[second_jump[i]] + 1\n",
    "    if second_3[i][1] not in num_relation_second_jump:\n",
    "        num_relation_second_jump[second_3[i][1]] = 1\n",
    "    else:\n",
    "        num_relation_second_jump[second_3[i][1]] = num_relation_second_jump[second_3[i][1]] + 1\n",
    "\n",
    "#测试正确性,测试数量是否符合要求\n",
    "min_relation = 50\n",
    "min_entity = 15\n",
    "for i in range(num_of_entity):\n",
    "    if num_entity_second_jump[second_jump[i]] <= min_entity:\n",
    "        print(\"error\")\n",
    "        print(i)\n",
    "        print(second_jump[i])\n",
    "    if num_relation_second_jump[second_3[i][1]] <= min_relation:\n",
    "        print(\"error\")\n",
    "        print(i)\n",
    "        print(second_3[i][1])\n",
    "\n",
    "print(len(num_entity_second_jump))\n",
    "print(len(num_relation_second_jump))"
   ]
  },
  {
   "cell_type": "code",
   "execution_count": null,
   "metadata": {},
   "outputs": [],
   "source": []
  }
 ],
 "metadata": {
  "kernelspec": {
   "display_name": "PyTorch",
   "language": "python",
   "name": "python3"
  },
  "language_info": {
   "codemirror_mode": {
    "name": "ipython",
    "version": 3
   },
   "file_extension": ".py",
   "mimetype": "text/x-python",
   "name": "python",
   "nbconvert_exporter": "python",
   "pygments_lexer": "ipython3",
   "version": "3.8.18"
  }
 },
 "nbformat": 4,
 "nbformat_minor": 2
}
